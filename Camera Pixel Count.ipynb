{
 "cells": [
  {
   "cell_type": "markdown",
   "id": "469efec9",
   "metadata": {},
   "source": [
    "# Camera Pixel Count\n",
    "## Alexandra Higley"
   ]
  },
  {
   "cell_type": "code",
   "execution_count": 1,
   "id": "8db1bd2d",
   "metadata": {},
   "outputs": [],
   "source": [
    "import numpy as np\n",
    "import matplotlib\n",
    "import matplotlib.pyplot as plt \n",
    "import matplotlib.ticker as ticker\n",
    "from matplotlib import cm\n",
    "import os\n",
    "import glob\n",
    "from PIL import Image\n",
    "\n",
    "import cv2"
   ]
  },
  {
   "cell_type": "code",
   "execution_count": 2,
   "id": "db7c8c8b",
   "metadata": {},
   "outputs": [],
   "source": [
    "def count_pix(path):\n",
    "    img = Image.open(path);\n",
    "    count = 0\n",
    "\n",
    "    for y in range(img.height):\n",
    "        for x in range(img.width):\n",
    "            pixel = img.getpixel((x, y))\n",
    "            if pixel >= 0.1:\n",
    "                count += 1\n",
    "    \n",
    "    return count"
   ]
  },
  {
   "cell_type": "markdown",
   "id": "c78d6922",
   "metadata": {},
   "source": [
    "### Movie One"
   ]
  },
  {
   "cell_type": "code",
   "execution_count": 3,
   "id": "cd8fe471",
   "metadata": {},
   "outputs": [],
   "source": [
    "movie1_8_3 = glob.glob(\"/Users/alexh/Desktop/Coding/Argonne/with xenon 8-3-22/movie 1/frame_*.tiff\")\n",
    "movie1_8_3 = np.sort(movie1_8_3,kind='standardsort')"
   ]
  },
  {
   "cell_type": "code",
   "execution_count": 4,
   "id": "96d60449",
   "metadata": {},
   "outputs": [],
   "source": [
    "bright_pix1 = np.empty(len(movie1_8_3))\n",
    "\n",
    "for i in range(len(movie1_8_3)):\n",
    "    bright_pix1[i] = count_pix(movie1_8_3[i])"
   ]
  },
  {
   "cell_type": "code",
   "execution_count": 5,
   "id": "c58b450b",
   "metadata": {},
   "outputs": [
    {
     "data": {
      "image/png": "[encoded data removed]",
      "text/plain": [
       "<Figure size 576x432 with 1 Axes>"
      ]
     },
     "metadata": {
      "needs_background": "light"
     },
     "output_type": "display_data"
    }
   ],
   "source": [
    "counts1,bins1 = np.histogram(bright_pix1, bins=11)\n",
    "\n",
    "fig1,ax1 =plt.subplots(figsize=(8,6))\n",
    "ax1.hist(bins1[:-1],bins1, edgecolor='black', facecolor='cornflowerblue',weights=counts1, alpha=0.5)\n",
    "\n",
    "ax1.set_xlabel('Pixel Value',fontsize=15)\n",
    "ax1.set_ylabel('Counts',fontsize=15)\n",
    "\n",
    "ax1.tick_params(axis='both',which='minor',direction='in')\n",
    "ax1.tick_params(top=True,right=True)\n",
    "ax1.tick_params(which='minor',top=True,right=True)\n",
    "\n",
    "ax1.set_title(\"8-3-22: Movie One\", fontsize = 20)\n",
    "plt.show()"
   ]
  },
  {
   "cell_type": "markdown",
   "id": "3d081dfc",
   "metadata": {},
   "source": [
    "### Movie 2"
   ]
  },
  {
   "cell_type": "code",
   "execution_count": 6,
   "id": "92de9a3f",
   "metadata": {},
   "outputs": [],
   "source": [
    "movie2_8_3 = glob.glob(\"/Users/alexh/Desktop/Coding/Argonne/with xenon 8-3-22/movie 2/frame_*.tiff\")\n",
    "movie2_8_3 = np.sort(movie2_8_3,kind='standardsort')"
   ]
  },
  {
   "cell_type": "code",
   "execution_count": 7,
   "id": "cdfa2bfb",
   "metadata": {},
   "outputs": [],
   "source": [
    "bright_pix2 = np.empty(len(movie2_8_3))\n",
    "\n",
    "for i in range(len(movie2_8_3)):\n",
    "    bright_pix2[i] = count_pix(movie2_8_3[i])"
   ]
  },
  {
   "cell_type": "code",
   "execution_count": 8,
   "id": "8d4f0ffd",
   "metadata": {},
   "outputs": [
    {
     "data": {
      "image/png": "[encoded data removed]",
      "text/plain": [
       "<Figure size 576x432 with 1 Axes>"
      ]
     },
     "metadata": {
      "needs_background": "light"
     },
     "output_type": "display_data"
    }
   ],
   "source": [
    "counts2,bins2 = np.histogram(bright_pix2, bins=5)\n",
    "\n",
    "fig1,ax1 =plt.subplots(figsize=(8,6))\n",
    "ax1.hist(bins2[:-1],bins2, edgecolor='black', facecolor='cornflowerblue',weights=counts2, alpha=0.5)\n",
    "\n",
    "ax1.set_xlabel('Pixel Value',fontsize=15)\n",
    "ax1.set_ylabel('Counts',fontsize=15)\n",
    "\n",
    "ax1.tick_params(axis='both',which='minor',direction='in')\n",
    "ax1.tick_params(top=True,right=True)\n",
    "ax1.tick_params(which='minor',top=True,right=True)\n",
    "\n",
    "ax1.set_title(\"8-3-22: Movie Two\", fontsize = 20)\n",
    "plt.show()"
   ]
  },
  {
   "cell_type": "markdown",
   "id": "960895a2",
   "metadata": {},
   "source": [
    "### More on Movie 1"
   ]
  },
  {
   "cell_type": "code",
   "execution_count": 10,
   "id": "344532fd",
   "metadata": {},
   "outputs": [
    {
     "name": "stdout",
     "output_type": "stream",
     "text": [
      "Frames with over six bright pixels in Movie One: \n",
      "\n",
      "[ 30 168 284 293 298 327 331 356 361 379 381 434 441 484 490 496 500 502\n",
      " 526 571 575 594 658 662 705 709 735 932]\n"
     ]
    }
   ],
   "source": [
    "over_six = np.where(bright_pix1>=6)\n",
    "\n",
    "print(\"Frames with over six bright pixels in Movie One: \\n\")\n",
    "for i in range(len(over_six)):\n",
    "    print(over_six[i])"
   ]
  },
  {
   "cell_type": "code",
   "execution_count": null,
   "id": "aac2e4c4",
   "metadata": {},
   "outputs": [],
   "source": []
  }
 ],
 "metadata": {
  "kernelspec": {
   "display_name": "Python 3",
   "language": "python",
   "name": "python3"
  },
  "language_info": {
   "codemirror_mode": {
    "name": "ipython",
    "version": 3
   },
   "file_extension": ".py",
   "mimetype": "text/x-python",
   "name": "python",
   "nbconvert_exporter": "python",
   "pygments_lexer": "ipython3",
   "version": "3.8.8"
  }
 },
 "nbformat": 4,
 "nbformat_minor": 5
}
