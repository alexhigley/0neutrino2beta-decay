{
 "cells": [
  {
   "cell_type": "markdown",
   "id": "4656a82f",
   "metadata": {},
   "source": [
    "## Get Image Location\n",
    "### Alexandra Higley and Nick Byrnes\n",
    "Modified from Nick Byrnes' \"CRAB-Optics\" (https://github.com/drailin/CRAB-optics)\n",
    "<br>\n",
    "<br>\n",
    "\n",
    "A program so I don't have to figure out where S2 is over and over again. \n",
    "\n",
    "For the installation of the TPC camera, we need to know where the image will be so we know where to put the image intensifier. We can find this location using the lens maker equation. The program calculates it based on input variables. "
   ]
  },
  {
   "cell_type": "code",
   "execution_count": 1,
   "id": "72b416c1",
   "metadata": {},
   "outputs": [],
   "source": [
    "import numpy as np\n",
    "import matplotlib\n",
    "import matplotlib.pyplot as plt \n",
    "import matplotlib.ticker as ticker\n",
    "from matplotlib import cm"
   ]
  },
  {
   "cell_type": "markdown",
   "id": "02c494e3",
   "metadata": {},
   "source": [
    "### Functions and Constants"
   ]
  },
  {
   "cell_type": "markdown",
   "id": "e380ade6",
   "metadata": {},
   "source": [
    "Sellmeier equation for different materials to find index of refraction at varied wave-length. The function takes input of wavelength and material to find index of refraction for your lens. Current options include:\n",
    "\n",
    "- MgF2 \n",
    "- CaF2\n",
    "- UVFS. \n",
    "\n",
    "For the TPC camera project, we are using a CaF2 lens. More materials can be added if need be. Index of refraction is calculated below, but it is squared. square root if need regular n "
   ]
  },
  {
   "cell_type": "code",
   "execution_count": 2,
   "id": "1d90b58e",
   "metadata": {},
   "outputs": [],
   "source": [
    "def index_ref(wavelength, material):\n",
    "    if material == 'MgF2':\n",
    "        n_sqr = (1 \n",
    "               + 0.48755108*wavelength**2/(wavelength**2-0.04338408**2) \n",
    "               + 0.39875031*wavelength**2/(wavelength**2-0.09461442**2) \n",
    "               + 2.3120353*wavelength**2/(wavelength**2-23.793604**2) )\n",
    "        \n",
    "    elif material == 'CaF2':\n",
    "        n_sqr = (1 \n",
    "               + 0.33973 \n",
    "               + 0.69913*wavelength**2/(wavelength**2-0.09374**2) \n",
    "               + 0.11994*wavelength**2/(wavelength**2-21.18**2) \n",
    "               + 4.35181*wavelength**2/(wavelength**2-38.46**2) )\n",
    "        \n",
    "    elif material == 'UVFS':\n",
    "        n_sqr = (1 \n",
    "               + 0.6961663*wavelength**2/(wavelength**2-0.0684043**2) \n",
    "               + 0.4079426*wavelength**2/(wavelength**2-0.1162414**2) \n",
    "               + 2.8974794*wavelength**2/(wavelength**2-9.896161**2) )\n",
    "\n",
    "    return n_sqr"
   ]
  },
  {
   "cell_type": "markdown",
   "id": "b7c8943d",
   "metadata": {},
   "source": [
    "Lens Makers Equation for finding focal length at varied refractive index. roc1 and roc2 are the respective radii of curvature for each face of the lens. roc2 is infinite for a plano-convex or plano-concave lens, so the Lens Maker's eqution becomes quite simple for us as most of it goes to zero.\n",
    "\n",
    "It should be noted that this equation does not take into consideration the thickness of the lens. The term in the Lens Maker's equation that includes thickness goes to zero when roc2 is infinite, although I do believe that the thickness of the lens will stll affect where the image is. As far as I can tell though, it will only be affect it on the scale of a few millimeters. \n",
    "\n",
    "- im_loc\n",
    " - takes parameter **foc_len** which is the focal length. This is either given or calculated.\n",
    " - takes parameter **s1**, which is the distance from the object being observed to the lens.\n",
    "         \n",
    "- get_foc\n",
    " - calculates focal length if it is not given, or if you have a varied wavelength (which will result in a varied index of refreaction. \n",
    " - takes parameter **in_ref**, which is the index of refraction. This is determined by the material used. See above\n",
    " - takes parameter **roc1**, which is the first radius of curvature. This should be a paramter specified by the lens supplier. For a plano-convex or plano-concave lens, the second radius of curvature is infinite so it does not matter for us. \n",
    "<br>\n",
    "<br>\n",
    "- get_mag\n",
    " - calculates magnification without varied wavelength. \n",
    " - takes parameters **s1** and **s2**, which are the distances from the object to the lens (s1) and the lens to the image (s2). The image intensifer shoudl be put where the image is formed\n",
    "- get_height\n",
    " - finds height of the image created without varied wavelength\n",
    " - takes parameters **h_obj**, which is the height of the object (the EL regsion for us), and **mag** which is the magnification (see get_mag)."
   ]
  },
  {
   "cell_type": "code",
   "execution_count": 3,
   "id": "f2248749",
   "metadata": {},
   "outputs": [],
   "source": [
    "#only for plano-convex or plano-concave lenses\n",
    "def im_loc(foc_len, s1):\n",
    "    s2 = ((1/foc_len) - (1/s1))**-1\n",
    "    return s2\n",
    "\n",
    "def get_foc(in_ref, roc1):\n",
    "    f_inv = (in_ref - 1)*(1/roc1)\n",
    "    foc = (f_inv)**-1\n",
    "    return foc\n",
    "\n",
    "\n",
    "def get_mag(s1, s2):\n",
    "    mag = -(s2/s1)\n",
    "    return mag\n",
    "\n",
    "def get_height(h_obj, mag):\n",
    "    height_im = mag*h_obj\n",
    "    return height_im"
   ]
  },
  {
   "cell_type": "markdown",
   "id": "418fe109",
   "metadata": {},
   "source": [
    "Constants for the TPC camera project:\n",
    "(note that some of these constants were found under *LA5210* in https://www.thorlabs.com/newgrouppage9.cfm?objectgroup_id=4354&pn=LA5210)\n",
    "\n",
    "- vessel: 1219.2 mm\n",
    "- door: 77.77 mm\n",
    "- window: 33.34 mm\n",
    "<br>\n",
    "<br>\n",
    "- 2 inch lens tube: 50.8 mm\n",
    "- 1 inch lens tube: 25.4 mm\n",
    "- 2 inch lens tube glued to vessel: 54.69 mm\n",
    "- lens holder: 2.58 mm\n",
    "- lens thickness: 11.2 mm\n",
    "- middle of lens: 5.6 mm\n",
    "- radius of curvature one: 43.4 mm\n",
    "<br>\n",
    "<br>\n",
    "- measured to back of lens holder: 42.5 mm\n",
    "- to back of lens: 45.08 mm\n",
    "- to center of lens: 50.68 mm\n",
    "<br>\n",
    "<br>\n",
    "- About the height of EL region: 400 mm"
   ]
  },
  {
   "cell_type": "markdown",
   "id": "486b8a51",
   "metadata": {},
   "source": [
    "### If wavelength is not varied"
   ]
  },
  {
   "cell_type": "code",
   "execution_count": 4,
   "id": "7989cf4f",
   "metadata": {},
   "outputs": [
    {
     "name": "stdout",
     "output_type": "stream",
     "text": [
      "S2 will be 108.101 mm: put image intensifier there.\n",
      "The magnification will be -0.081 mm.\n",
      "The height of the image created will be -32.406 mm.\n"
     ]
    }
   ],
   "source": [
    "height_ob = 400\n",
    "\n",
    "#Not lens tube\n",
    "vessel = 1219.2 \n",
    "door = 77.79\n",
    "window = 33.34\n",
    "vessel_tot = vessel + door + window\n",
    "\n",
    "#lens tube\n",
    "glue_2lens = 54.69\n",
    "cent_lens = 50.68\n",
    "dist_to_lens = glue_2lens - cent_lens # estimate\n",
    "\n",
    "\n",
    "s1_f = vessel_tot + dist_to_lens\n",
    "s2_f = im_loc(100, s1_f)\n",
    "\n",
    "mag = get_mag(s1_f, s2_f)\n",
    "height_im = get_height(height_ob, mag)\n",
    "\n",
    "print(\"S2 will be \" + str(round(s2_f,3)) + \" mm: put image intensifier there.\")\n",
    "print(\"The magnification will be \" + str(round(mag,3)) + \" mm.\")\n",
    "print(\"The height of the image created will be \" + str(round(height_im,3)) + \" mm.\")"
   ]
  },
  {
   "cell_type": "markdown",
   "id": "90d01a55",
   "metadata": {},
   "source": [
    "### If wavelength is varied"
   ]
  },
  {
   "cell_type": "markdown",
   "id": "212d6602",
   "metadata": {},
   "source": [
    "More constants for varied wavelengths. We want to be working in Xenon, if we can buy it, which scintillates in UV to optical, however as of right now we only have access or Argon gas which scintillates in UV.\n",
    "\n",
    "These ranges are more of a loose guess than anything. Especially Argon"
   ]
  },
  {
   "cell_type": "code",
   "execution_count": 5,
   "id": "5e795e89",
   "metadata": {},
   "outputs": [],
   "source": [
    "# Wavelengths in um (Sellmeier equation uses um usually)\n",
    "wl_range_Xe = np.arange(0.1, 1.1, 0.001)\n",
    "wl_range_Ar = np.arange(0.1, 0.325, 0.0001)\n",
    "\n",
    "# Converts wavelength into nm, more intuitive for me.\n",
    "wl_range_Xe_nm = wl_range_Xe*1000 \n",
    "wl_range_Ar_nm = wl_range_Ar*1000 \n",
    "\n",
    "# Lens\n",
    "mat = 'CaF2' # Materials include: MgF2, CaF2, UVFS as of now.\n",
    "R_1 = 43.4 # Radius of Curvature one "
   ]
  },
  {
   "cell_type": "markdown",
   "id": "9987f5f6",
   "metadata": {},
   "source": [
    "Takes a list of wavelengths and calculates for each the refractive index of MgF2, focal length of a 28.3mm ROC lens, the needed distance between the lens and II, and the magnification .\n",
    "\n",
    "- n_range --> indexes of refraction with varied wavelength\n",
    "- f_range --> focal length with varied wavelength \n",
    "- d_i_range --> lens to II distance with varied wavelength\n",
    "- m_range --> magnification with varied wavelength \n",
    "- h_range --> height of image on the II\n",
    "\n",
    "For now, the only wavelength ranges I have are that for Xenon and Argon. We can note that Argon stays in the UV spectrun, whereas Xenon covers UV, optical, and even some IR. This is why we want xenon, so we can see the scintillation (in optical). \n",
    "\n",
    "Note that the magnification is negative and the height of the image is originally negative (I multiply it by negative one here). That is because the image will be upsidedown. "
   ]
  },
  {
   "cell_type": "code",
   "execution_count": 6,
   "id": "8ead7700",
   "metadata": {},
   "outputs": [],
   "source": [
    "#Xenon\n",
    "n_range_Xe = []\n",
    "for wl in wl_range_Xe:\n",
    "    n_range_Xe.append(np.sqrt(index_ref(wl, mat)))\n",
    "    \n",
    "f_range_Xe = []\n",
    "for n in n_range_Xe:\n",
    "    f_range_Xe.append(get_foc(n, R_1))\n",
    "\n",
    "d_i_range_Xe = []\n",
    "for foc in f_range_Xe:\n",
    "    d_i_range_Xe.append(im_loc(foc, vessel_tot))\n",
    "    \n",
    "m_range_Xe = []    \n",
    "for d in d_i_range_Xe:\n",
    "    m_range_Xe.append(-d/vessel_tot)\n",
    "    # d is negative because the image will be flipped \n",
    "    \n",
    "h_range_Xe = []\n",
    "for m in m_range_Xe:\n",
    "    h_range_Xe.append((height_ob*m)*-1)\n",
    "\n",
    "\n",
    "\n",
    "#Argon     \n",
    "n_range_Ar = []\n",
    "for wl in wl_range_Ar:\n",
    "    n_range_Ar.append(np.sqrt(index_ref(wl, mat)))\n",
    "    \n",
    "f_range_Ar = []\n",
    "for n in n_range_Ar:\n",
    "    f_range_Ar.append(get_foc(n, R_1))\n",
    "\n",
    "d_i_range_Ar = []\n",
    "for foc in f_range_Ar:\n",
    "    d_i_range_Ar.append(im_loc(foc, vessel_tot))\n",
    "    \n",
    "m_range_Ar = []    \n",
    "for d in d_i_range_Ar:\n",
    "    m_range_Ar.append(-d/vessel_tot)\n",
    "    # d is negative because the image will be flipped \n",
    "\n",
    "h_range_Ar = []\n",
    "for m in m_range_Ar:\n",
    "    h_range_Ar.append((height_ob*m)*-1)"
   ]
  },
  {
   "cell_type": "markdown",
   "id": "d5ae9380",
   "metadata": {},
   "source": [
    "Points of interest can also be found. For my project, I would like to know the information at the wavelength where Argon and Xenon electroluminate. For Argon, it is 127nm. For Xenon, it is about 175nm, however I marked all the wavelengths that were tested during the vacuum test (172nm, 175nm, 178nm)"
   ]
  },
  {
   "cell_type": "code",
   "execution_count": 7,
   "id": "d569c3ab",
   "metadata": {},
   "outputs": [],
   "source": [
    "#Xenon points of interest\n",
    "poi_wl_172_loc = np.where((wl_range_Xe_nm > 171.5) & (wl_range_Xe_nm < 173)) #where it is 172 nm\n",
    "poi_wl_175_loc = np.where((wl_range_Xe_nm > 174.5) & (wl_range_Xe_nm < 176)) #where it is 175 nm\n",
    "poi_wl_178_loc = np.where((wl_range_Xe_nm > 177.5) & (wl_range_Xe_nm < 179)) #where it is 178 nm\n",
    "\n",
    "\n",
    "#Argon point of interest\n",
    "poi_wl_127_loc = np.where((wl_range_Ar_nm >= 127) & (wl_range_Ar_nm < 127.1)) #where it is 127 nm"
   ]
  },
  {
   "cell_type": "code",
   "execution_count": 8,
   "id": "b01f83ee",
   "metadata": {},
   "outputs": [
    {
     "name": "stdout",
     "output_type": "stream",
     "text": [
      "[172.]\n",
      "[87.64594226]\n",
      "[88.47076073]\n",
      "[89.24911235]\n",
      "[65.44733205]\n",
      "1000\n",
      "1000\n"
     ]
    }
   ],
   "source": [
    "d_i_range_Xe_arr = np.array(d_i_range_Xe)\n",
    "m_range_Xe_arr = np.array(m_range_Xe)\n",
    "h_range_Xe_arr = np.array(h_range_Xe)\n",
    "\n",
    "d_i_range_Ar_arr = np.array(d_i_range_Ar)\n",
    "m_range_Ar_arr = np.array(m_range_Ar)\n",
    "h_range_Ar_arr = np.array(h_range_Ar)\n",
    "\n",
    "#Wavelengths\n",
    "wl_172 = wl_range_Xe_nm[poi_wl_172_loc]\n",
    "wl_175 = wl_range_Xe_nm[poi_wl_175_loc]\n",
    "wl_178 = wl_range_Xe_nm[poi_wl_178_loc]\n",
    "wl_127 = wl_range_Ar_nm[poi_wl_127_loc]\n",
    "\n",
    "#Lens to II Distance\n",
    "d_i_172 = d_i_range_Xe_arr[poi_wl_172_loc]\n",
    "d_i_175 = d_i_range_Xe_arr[poi_wl_175_loc]\n",
    "d_i_178 = d_i_range_Xe_arr[poi_wl_178_loc]\n",
    "d_i_127 = d_i_range_Ar_arr[poi_wl_127_loc]\n",
    "\n",
    "#Magnification\n",
    "m_172 = m_range_Xe_arr[poi_wl_172_loc]\n",
    "m_175 = m_range_Xe_arr[poi_wl_175_loc]\n",
    "m_178 = m_range_Xe_arr[poi_wl_178_loc]\n",
    "m_127 = m_range_Ar_arr[poi_wl_127_loc]\n",
    "\n",
    "#Image Height\n",
    "h_172 = h_range_Xe_arr[poi_wl_172_loc]\n",
    "h_175 = h_range_Xe_arr[poi_wl_175_loc]\n",
    "h_178 = h_range_Xe_arr[poi_wl_178_loc]\n",
    "h_127 = h_range_Ar_arr[poi_wl_127_loc]\n",
    "\n",
    "print(wl_172)\n",
    "print(d_i_172)\n",
    "print(d_i_175)\n",
    "print(d_i_178)\n",
    "print(d_i_127)\n",
    "\n",
    "print(len(wl_range_Xe_nm))\n",
    "print(len(d_i_range_Xe_arr))"
   ]
  },
  {
   "cell_type": "markdown",
   "id": "afd6e277",
   "metadata": {},
   "source": [
    "### Plots\n",
    "\n",
    "Now I will plot some of the data. Here I am plotting the lens to image intensifier distance, magnfication and image height as it changes with a varied wavelength. "
   ]
  },
  {
   "cell_type": "code",
   "execution_count": 9,
   "id": "fcea8722",
   "metadata": {},
   "outputs": [],
   "source": [
    "w1_175_lab = (str(wl_175)[0:4])\n",
    "d_i_175_lab = (str(d_i_175)[1:6])\n",
    "m_175_lab = (str(m_175)[1:6])\n",
    "h_175_lab = (str(h_175)[1:6])\n",
    "\n",
    "w1_127_lab = (str(wl_127)[0:4])\n",
    "d_i_127_lab = (str(d_i_127)[1:6])\n",
    "m_127_lab = (str(m_175)[1:6])\n",
    "h_127_lab = (str(h_175)[1:6])"
   ]
  },
  {
   "cell_type": "code",
   "execution_count": 10,
   "id": "8e270447",
   "metadata": {},
   "outputs": [
    {
     "data": {
      "image/png": "[encoded data removed]",
      "text/plain": [
       "<Figure size 720x576 with 1 Axes>"
      ]
     },
     "metadata": {
      "needs_background": "light"
     },
     "output_type": "display_data"
    }
   ],
   "source": [
    "matplotlib.rc('text',usetex=True)\n",
    "matplotlib.rc('font',size=15)\n",
    "fig1,ax1 = plt.subplots(figsize=(10,8))\n",
    "\n",
    "ax1.set_xlabel('Wavelength (nm)')\n",
    "ax1.set_ylabel('Distance (mm)')\n",
    "\n",
    "ax1.plot(wl_range_Xe_nm, d_i_range_Xe, label=\"Xenon\", color=\"tab:blue\", linewidth=3)\n",
    "ax1.plot(wl_range_Ar_nm, d_i_range_Ar, label=\"Argon\", color=\"r\", linewidth=3)\n",
    "\n",
    "pois_x = np.array([wl_127, wl_175])\n",
    "pois_y = np.array([d_i_127, d_i_175])\n",
    "\n",
    "ax1.scatter(pois_x, pois_y, color=\"black\")\n",
    "ax1.plot(wl_175, d_i_175, marker=\".\", markersize=15, color=\"black\")\n",
    "ax1.plot(wl_127, d_i_127, marker=\".\", markersize=15, color=\"black\")\n",
    "\n",
    "ax1.tick_params(axis='both',which='minor',direction='in')\n",
    "ax1.tick_params(top=True,right=True)\n",
    "ax1.tick_params(which='minor',top=True,right=True)\n",
    "\n",
    "\n",
    "annotations=[(\".  \\t\" + w1_127_lab + \"nm, \" + d_i_127_lab + \"mm]\"), (\".  \\t\" + w1_175_lab + \"nm, \" + d_i_175_lab + \"mm]\")]\n",
    "\n",
    "for i, label in enumerate(annotations):\n",
    "    plt.annotate(label, (pois_x[i], pois_y[i]), ha='left', va='center')\n",
    "\n",
    "plt.legend()\n",
    "plt.grid(True)\n",
    "ax1.set_title(\"Lens to Image Intensifier Distance\");"
   ]
  },
  {
   "cell_type": "code",
   "execution_count": 15,
   "id": "289128c3",
   "metadata": {},
   "outputs": [
    {
     "data": {
      "image/png": "[encoded data removed]",
      "text/plain": [
       "<Figure size 720x576 with 1 Axes>"
      ]
     },
     "metadata": {
      "needs_background": "light"
     },
     "output_type": "display_data"
    }
   ],
   "source": [
    "matplotlib.rc('text',usetex=True)\n",
    "matplotlib.rc('font',size=15)\n",
    "fig1,ax1 = plt.subplots(figsize=(10,8))\n",
    "\n",
    "ax1.set_xlabel('Wavelength (nm)')\n",
    "ax1.set_ylabel('Magnification')\n",
    "\n",
    "ax1.plot(wl_range_Xe_nm, m_range_Xe, label=\"Xenon\", color=\"tab:blue\", linewidth=3)\n",
    "ax1.plot(wl_range_Ar_nm, m_range_Ar, label=\"Argon\", color=\"r\", linewidth=3)\n",
    "\n",
    "pois_x = np.array([wl_127, wl_175])\n",
    "pois_y = np.array([m_127, m_175])\n",
    "\n",
    "ax1.scatter(pois_x, pois_y, color=\"black\")\n",
    "ax1.plot(wl_175, m_175, marker=\".\", markersize=15, color=\"black\")\n",
    "ax1.plot(wl_127, m_127, marker=\".\", markersize=15, color=\"black\")\n",
    "\n",
    "ax1.tick_params(axis='both',which='minor',direction='in')\n",
    "ax1.tick_params(top=True,right=True)\n",
    "ax1.tick_params(which='minor',top=True,right=True)\n",
    "\n",
    "\n",
    "annotations=[(\".  \\t\" + w1_127_lab + \"nm, \" + m_127_lab ), (\".  \\t\" + w1_175_lab + \"nm, \" + m_175_lab + \"mm]\")]\n",
    "\n",
    "for i, label in enumerate(annotations):\n",
    "    plt.annotate(label, (pois_x[i], pois_y[i]), ha='left', va='center')\n",
    "\n",
    "plt.legend()\n",
    "plt.grid(True)\n",
    "ax1.set_title(\"Magnification with Varied Wavelength\");"
   ]
  },
  {
   "cell_type": "code",
   "execution_count": 16,
   "id": "e4b180fa",
   "metadata": {},
   "outputs": [
    {
     "data": {
      "image/png": "[encoded data removed]",
      "text/plain": [
       "<Figure size 720x576 with 1 Axes>"
      ]
     },
     "metadata": {
      "needs_background": "light"
     },
     "output_type": "display_data"
    }
   ],
   "source": [
    "matplotlib.rc('text',usetex=True)\n",
    "matplotlib.rc('font',size=15)\n",
    "fig1,ax1 = plt.subplots(figsize=(10,8))\n",
    "\n",
    "ax1.set_xlabel('Wavelength (nm)')\n",
    "ax1.set_ylabel('Height of image (mm)')\n",
    "\n",
    "ax1.plot(wl_range_Xe_nm, h_range_Xe, label=\"Xenon\", color=\"tab:blue\", linewidth=3)\n",
    "ax1.plot(wl_range_Ar_nm, h_range_Ar, label=\"Argon\", color=\"r\", linewidth=3)\n",
    "\n",
    "pois_x = np.array([wl_127, wl_175])\n",
    "pois_y = np.array([h_127, h_175])\n",
    "\n",
    "ax1.scatter(pois_x, pois_y, color=\"black\")\n",
    "ax1.plot(wl_175, h_175, marker=\".\", markersize=15, color=\"black\")\n",
    "ax1.plot(wl_127, h_127, marker=\".\", markersize=15, color=\"black\")\n",
    "\n",
    "ax1.tick_params(axis='both',which='minor',direction='in')\n",
    "ax1.tick_params(top=True,right=True)\n",
    "ax1.tick_params(which='minor',top=True,right=True)\n",
    "\n",
    "\n",
    "annotations=[(\".  \\t\" + w1_127_lab + \"nm, \" + h_127_lab + \"mm]\"), (\".  \\t\" + w1_175_lab + \"nm, \" + h_175_lab + \"mm]\")]\n",
    "\n",
    "for i, label in enumerate(annotations):\n",
    "    plt.annotate(label, (pois_x[i], pois_y[i]), ha='left', va='center')\n",
    "\n",
    "plt.legend()\n",
    "plt.grid(True)\n",
    "ax1.set_title(\"Height of Image with Varied Wavelength\");"
   ]
  },
  {
   "cell_type": "code",
   "execution_count": null,
   "id": "80b82ea3",
   "metadata": {},
   "outputs": [],
   "source": []
  }
 ],
 "metadata": {
  "kernelspec": {
   "display_name": "Python 3",
   "language": "python",
   "name": "python3"
  },
  "language_info": {
   "codemirror_mode": {
    "name": "ipython",
    "version": 3
   },
   "file_extension": ".py",
   "mimetype": "text/x-python",
   "name": "python",
   "nbconvert_exporter": "python",
   "pygments_lexer": "ipython3",
   "version": "3.8.8"
  }
 },
 "nbformat": 4,
 "nbformat_minor": 5
}
